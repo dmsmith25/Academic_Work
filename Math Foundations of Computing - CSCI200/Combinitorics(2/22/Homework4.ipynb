{
 "cells": [
  {
   "cell_type": "code",
   "execution_count": 14,
   "source": [
    "subsets = []\n",
    "\n",
    "def get_subsets(input_array, k):\n",
    "    \n",
    "    if len(input_array) == k:\n",
    "        if not(input_array in subsets):\n",
    "            subsets.append(input_array)\n",
    "    else:\n",
    "        new_array = []\n",
    "        for i in range(len(input_array)):\n",
    "            new_array = input_array[:i] + input_array[i + 1:] \n",
    "            get_subsets(new_array, k)\n",
    "\n",
    "    return subsets\n",
    "\n",
    "print(get_subsets(['a','b','c','d'], 2))"
   ],
   "outputs": [
    {
     "output_type": "stream",
     "name": "stdout",
     "text": [
      "[[]]\n"
     ]
    }
   ],
   "metadata": {}
  }
 ],
 "metadata": {
  "orig_nbformat": 4,
  "language_info": {
   "name": "python",
   "version": "3.8.5",
   "mimetype": "text/x-python",
   "codemirror_mode": {
    "name": "ipython",
    "version": 3
   },
   "pygments_lexer": "ipython3",
   "nbconvert_exporter": "python",
   "file_extension": ".py"
  },
  "kernelspec": {
   "name": "python3",
   "display_name": "Python 3.8.5 64-bit ('base': conda)"
  },
  "interpreter": {
   "hash": "4bb39a382f00b5c83c39d89273f7827ec6b17bffa58110fa7a9f38b44d326eb4"
  }
 },
 "nbformat": 4,
 "nbformat_minor": 2
}