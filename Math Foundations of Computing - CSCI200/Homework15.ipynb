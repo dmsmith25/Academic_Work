{
 "cells": [
  {
   "cell_type": "code",
   "execution_count": 8,
   "source": [
    "\n",
    "A = [1, 2, 3]\n",
    "print(A[0:4])"
   ],
   "outputs": [
    {
     "output_type": "stream",
     "name": "stdout",
     "text": [
      "[1, 2, 3]\n"
     ]
    }
   ],
   "metadata": {}
  }
 ],
 "metadata": {
  "orig_nbformat": 4,
  "language_info": {
   "name": "python",
   "version": "3.8.5",
   "mimetype": "text/x-python",
   "codemirror_mode": {
    "name": "ipython",
    "version": 3
   },
   "pygments_lexer": "ipython3",
   "nbconvert_exporter": "python",
   "file_extension": ".py"
  },
  "kernelspec": {
   "name": "python3",
   "display_name": "Python 3.8.5 64-bit ('base': conda)"
  },
  "interpreter": {
   "hash": "4bb39a382f00b5c83c39d89273f7827ec6b17bffa58110fa7a9f38b44d326eb4"
  }
 },
 "nbformat": 4,
 "nbformat_minor": 2
}